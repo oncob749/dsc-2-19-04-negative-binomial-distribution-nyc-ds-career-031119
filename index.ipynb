{
 "cells": [
  {
   "cell_type": "code",
   "execution_count": 1,
   "metadata": {},
   "outputs": [
    {
     "name": "stdout",
     "output_type": "stream",
     "text": [
      "1 wells drilled, probability of success: 0.9925%\n",
      "2 wells drilled, probability of success: 1.8903%\n",
      "3 wells drilled, probability of success: 2.7012%\n",
      "4 wells drilled, probability of success: 3.4311%\n",
      "5 wells drilled, probability of success: 4.0735%\n",
      "6 wells drilled, probability of success: 4.6557%\n",
      "7 wells drilled, probability of success: 5.1977%\n",
      "8 wells drilled, probability of success: 5.6884%\n",
      "9 wells drilled, probability of success: 6.1339%\n",
      "10 wells drilled, probability of success: 6.5255%\n"
     ]
    }
   ],
   "source": [
    "import numpy as np\n",
    "\n",
    "s = np.random.negative_binomial(1, 0.1, 100000)\n",
    "for i in range(1, 11):\n",
    "    probability = sum(s<i) / 1000000\n",
    "    print(\"{} wells drilled, probability of success: {:.4f}%\".format(i, probability * 100))"
   ]
  },
  {
   "cell_type": "markdown",
   "metadata": {},
   "source": [
    "## Summary\n",
    "\n",
    "In this lesson, we learned all about the **_Negative Binomial Distribution_**, as well as related concepts such as **_Negative Binomial Trials_** and **_Negative Binomial Probability_**.  "
   ]
  }
 ],
 "metadata": {
  "kernelspec": {
   "display_name": "Python 3",
   "language": "python",
   "name": "python3"
  },
  "language_info": {
   "codemirror_mode": {
    "name": "ipython",
    "version": 3
   },
   "file_extension": ".py",
   "mimetype": "text/x-python",
   "name": "python",
   "nbconvert_exporter": "python",
   "pygments_lexer": "ipython3",
   "version": "3.6.6"
  }
 },
 "nbformat": 4,
 "nbformat_minor": 2
}
